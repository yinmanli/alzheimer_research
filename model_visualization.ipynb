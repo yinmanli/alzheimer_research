{
 "cells": [
  {
   "cell_type": "code",
   "execution_count": 4,
   "metadata": {},
   "outputs": [],
   "source": [
    "from sklearn.model_selection import train_test_split\n",
    "from sklearn.model_selection import KFold\n",
    "from sklearn.ensemble import RandomForestClassifier\n",
    "from sklearn import tree\n",
    "from sklearn.metrics import accuracy_score, precision_score, recall_score\n",
    "import pickle\n",
    "import pandas as pd\n",
    "import numpy as np\n",
    "from scipy import stats\n",
    "import statistics as stat\n",
    "import time\n",
    "import matplotlib.pyplot as plt\n",
    "ad =  pd.read_csv('dataset.csv')"
   ]
  },
  {
   "cell_type": "code",
   "execution_count": 6,
   "metadata": {},
   "outputs": [],
   "source": [
    "ad.loc[ad[\"CDR\"] == 2,\"CDR\"] = 1\n",
    "ad[\"Male\"] = np.where(ad[\"M/F\"]==\"M\", 1, 0)\n",
    "ad[\"Female\"] = np.where(ad[\"M/F\"]==\"F\", 1, 0)"
   ]
  },
  {
   "cell_type": "code",
   "execution_count": 7,
   "metadata": {},
   "outputs": [],
   "source": [
    "tree_X = ad.iloc[:,[3,8,9,10,11,12,13]] \n",
    "tree_y = ad.iloc[:,[2]]"
   ]
  },
  {
   "cell_type": "code",
   "execution_count": 8,
   "metadata": {},
   "outputs": [
    {
     "data": {
      "text/plain": [
       "Index(['Visit', 'EDUC', 'SES', 'MMSE', 'CDR', 'eTIV', 'nWBV'], dtype='object')"
      ]
     },
     "execution_count": 8,
     "metadata": {},
     "output_type": "execute_result"
    }
   ],
   "source": [
    "tree_X.columns"
   ]
  },
  {
   "cell_type": "code",
   "execution_count": 30,
   "metadata": {},
   "outputs": [],
   "source": [
    "forest_X = ad.iloc[:,[3,4,7,8,9,10,11,13,14,16]] \n",
    "forest_y = ad.iloc[:,[2]]"
   ]
  },
  {
   "cell_type": "code",
   "execution_count": 2,
   "metadata": {},
   "outputs": [],
   "source": [
    "forest_model = pickle.load(open('alzheimer_forest.pkl', 'rb'))\n",
    "tree_model = pickle.load(open('alzheimer_tree.pkl', 'rb'))"
   ]
  },
  {
   "cell_type": "code",
   "execution_count": 5,
   "metadata": {},
   "outputs": [
    {
     "data": {
      "text/plain": [
       "Index(['Subject ID', 'MRI ID', 'Group', 'Visit', 'MR Delay', 'M/F', 'Hand',\n",
       "       'Age', 'EDUC', 'SES', 'MMSE', 'CDR', 'eTIV', 'nWBV', 'ASF'],\n",
       "      dtype='object')"
      ]
     },
     "execution_count": 5,
     "metadata": {},
     "output_type": "execute_result"
    }
   ],
   "source": [
    "ad.columns"
   ]
  },
  {
   "cell_type": "code",
   "execution_count": 17,
   "metadata": {},
   "outputs": [
    {
     "name": "stdout",
     "output_type": "stream",
     "text": [
      "|--- CDR <= 0.25\n",
      "|   |--- Visit <= 1.50\n",
      "|   |   |--- nWBV <= 0.73\n",
      "|   |   |   |--- nWBV <= 0.69\n",
      "|   |   |   |   |--- class: Nondemented\n",
      "|   |   |   |--- nWBV >  0.69\n",
      "|   |   |   |   |--- eTIV <= 1338.00\n",
      "|   |   |   |   |   |--- class: Nondemented\n",
      "|   |   |   |   |--- eTIV >  1338.00\n",
      "|   |   |   |   |   |--- eTIV <= 1652.00\n",
      "|   |   |   |   |   |   |--- EDUC <= 21.50\n",
      "|   |   |   |   |   |   |   |--- MMSE <= 29.50\n",
      "|   |   |   |   |   |   |   |   |--- class: Converted\n",
      "|   |   |   |   |   |   |   |--- MMSE >  29.50\n",
      "|   |   |   |   |   |   |   |   |--- eTIV <= 1415.00\n",
      "|   |   |   |   |   |   |   |   |   |--- class: Converted\n",
      "|   |   |   |   |   |   |   |   |--- eTIV >  1415.00\n",
      "|   |   |   |   |   |   |   |   |   |--- class: Nondemented\n",
      "|   |   |   |   |   |   |--- EDUC >  21.50\n",
      "|   |   |   |   |   |   |   |--- class: Nondemented\n",
      "|   |   |   |   |   |--- eTIV >  1652.00\n",
      "|   |   |   |   |   |   |--- class: Nondemented\n",
      "|   |   |--- nWBV >  0.73\n",
      "|   |   |   |--- nWBV <= 0.77\n",
      "|   |   |   |   |--- class: Nondemented\n",
      "|   |   |   |--- nWBV >  0.77\n",
      "|   |   |   |   |--- nWBV <= 0.80\n",
      "|   |   |   |   |   |--- SES <= 1.50\n",
      "|   |   |   |   |   |   |--- class: Converted\n",
      "|   |   |   |   |   |--- SES >  1.50\n",
      "|   |   |   |   |   |   |--- SES <= 3.50\n",
      "|   |   |   |   |   |   |   |--- class: Nondemented\n",
      "|   |   |   |   |   |   |--- SES >  3.50\n",
      "|   |   |   |   |   |   |   |--- nWBV <= 0.79\n",
      "|   |   |   |   |   |   |   |   |--- class: Nondemented\n",
      "|   |   |   |   |   |   |   |--- nWBV >  0.79\n",
      "|   |   |   |   |   |   |   |   |--- class: Converted\n",
      "|   |   |   |   |--- nWBV >  0.80\n",
      "|   |   |   |   |   |--- class: Nondemented\n",
      "|   |--- Visit >  1.50\n",
      "|   |   |--- MMSE <= 26.00\n",
      "|   |   |   |--- class: Converted\n",
      "|   |   |--- MMSE >  26.00\n",
      "|   |   |   |--- SES <= 1.50\n",
      "|   |   |   |   |--- EDUC <= 15.00\n",
      "|   |   |   |   |   |--- class: Converted\n",
      "|   |   |   |   |--- EDUC >  15.00\n",
      "|   |   |   |   |   |--- class: Nondemented\n",
      "|   |   |   |--- SES >  1.50\n",
      "|   |   |   |   |--- class: Nondemented\n",
      "|--- CDR >  0.25\n",
      "|   |--- SES <= 1.50\n",
      "|   |   |--- CDR <= 0.75\n",
      "|   |   |   |--- Visit <= 1.50\n",
      "|   |   |   |   |--- class: Demented\n",
      "|   |   |   |--- Visit >  1.50\n",
      "|   |   |   |   |--- eTIV <= 1810.50\n",
      "|   |   |   |   |   |--- MMSE <= 27.50\n",
      "|   |   |   |   |   |   |--- nWBV <= 0.69\n",
      "|   |   |   |   |   |   |   |--- class: Converted\n",
      "|   |   |   |   |   |   |--- nWBV >  0.69\n",
      "|   |   |   |   |   |   |   |--- class: Demented\n",
      "|   |   |   |   |   |--- MMSE >  27.50\n",
      "|   |   |   |   |   |   |--- class: Converted\n",
      "|   |   |   |   |--- eTIV >  1810.50\n",
      "|   |   |   |   |   |--- class: Demented\n",
      "|   |   |--- CDR >  0.75\n",
      "|   |   |   |--- class: Demented\n",
      "|   |--- SES >  1.50\n",
      "|   |   |--- Visit <= 2.50\n",
      "|   |   |   |--- class: Demented\n",
      "|   |   |--- Visit >  2.50\n",
      "|   |   |   |--- MMSE <= 27.69\n",
      "|   |   |   |   |--- class: Demented\n",
      "|   |   |   |--- MMSE >  27.69\n",
      "|   |   |   |   |--- MMSE <= 29.00\n",
      "|   |   |   |   |   |--- class: Converted\n",
      "|   |   |   |   |--- MMSE >  29.00\n",
      "|   |   |   |   |   |--- class: Demented\n",
      "\n"
     ]
    }
   ],
   "source": [
    "a = tree.export_text(tree_model, feature_names=list(tree_X.columns))\n",
    "print(a)"
   ]
  }
 ],
 "metadata": {
  "kernelspec": {
   "display_name": "Python 3.7.0 32-bit",
   "language": "python",
   "name": "python3"
  },
  "language_info": {
   "codemirror_mode": {
    "name": "ipython",
    "version": 3
   },
   "file_extension": ".py",
   "mimetype": "text/x-python",
   "name": "python",
   "nbconvert_exporter": "python",
   "pygments_lexer": "ipython3",
   "version": "3.7.0"
  },
  "orig_nbformat": 4,
  "vscode": {
   "interpreter": {
    "hash": "a1149b4cf27a6be64942d6349e5d3a5a390f7bc340efac3803b90f8137d94e5d"
   }
  }
 },
 "nbformat": 4,
 "nbformat_minor": 2
}
