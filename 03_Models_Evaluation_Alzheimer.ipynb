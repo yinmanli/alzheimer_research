{
 "cells": [
  {
   "cell_type": "markdown",
   "metadata": {},
   "source": [
    "# Models Evaluation"
   ]
  },
  {
   "cell_type": "code",
   "execution_count": 29,
   "metadata": {},
   "outputs": [],
   "source": [
    "import pandas as pd\n",
    "import numpy as np\n",
    "import statistics as stat\n",
    "from sklearn.model_selection import KFold\n",
    "from sklearn.linear_model import LinearRegression\n",
    "from sklearn.metrics import accuracy_score, precision_score, recall_score\n",
    "from imblearn.over_sampling import RandomOverSampler\n",
    "from sklearn import tree\n",
    "import matplotlib.pyplot as plt\n",
    "from scipy import stats\n",
    "from scipy.stats import ranksums\n",
    "\n",
    "pd.options.mode.chained_assignment = None \n",
    "\n",
    "\n",
    "ad =  pd.read_csv('dataset.csv')"
   ]
  },
  {
   "cell_type": "markdown",
   "metadata": {},
   "source": [
    "### Grouping CDR 2.0 to 1.0"
   ]
  },
  {
   "cell_type": "code",
   "execution_count": 30,
   "metadata": {},
   "outputs": [],
   "source": [
    "ad.loc[ad[\"CDR\"] == 2,\"CDR\"] = 1"
   ]
  },
  {
   "cell_type": "markdown",
   "metadata": {},
   "source": [
    "### Training and Testing Sets"
   ]
  },
  {
   "cell_type": "code",
   "execution_count": 31,
   "metadata": {},
   "outputs": [],
   "source": [
    "kf = KFold(n_splits=10, random_state=None) #10 folds cross validation\n",
    "oversample = RandomOverSampler(sampling_strategy='minority', random_state =4)"
   ]
  },
  {
   "cell_type": "code",
   "execution_count": 32,
   "metadata": {},
   "outputs": [],
   "source": [
    "train = []\n",
    "test = []\n",
    "\n",
    "for train_index, test_index in kf.split(ad):\n",
    "    train.append(train_index)\n",
    "    test.append(test_index)"
   ]
  },
  {
   "cell_type": "markdown",
   "metadata": {},
   "source": [
    "### Splitting into independent and dependent variables"
   ]
  },
  {
   "cell_type": "code",
   "execution_count": 33,
   "metadata": {},
   "outputs": [],
   "source": [
    "X_LR = ad.iloc[:,[4,7,10,13]]\n",
    "y_LR = ad.iloc[:,[11]]\n",
    "\n",
    "y_LR=y_LR.astype(str)\n"
   ]
  },
  {
   "cell_type": "code",
   "execution_count": 34,
   "metadata": {},
   "outputs": [
    {
     "data": {
      "text/html": [
       "<div>\n",
       "<style scoped>\n",
       "    .dataframe tbody tr th:only-of-type {\n",
       "        vertical-align: middle;\n",
       "    }\n",
       "\n",
       "    .dataframe tbody tr th {\n",
       "        vertical-align: top;\n",
       "    }\n",
       "\n",
       "    .dataframe thead th {\n",
       "        text-align: right;\n",
       "    }\n",
       "</style>\n",
       "<table border=\"1\" class=\"dataframe\">\n",
       "  <thead>\n",
       "    <tr style=\"text-align: right;\">\n",
       "      <th></th>\n",
       "      <th>MR Delay</th>\n",
       "      <th>Age</th>\n",
       "      <th>MMSE</th>\n",
       "      <th>nWBV</th>\n",
       "    </tr>\n",
       "  </thead>\n",
       "  <tbody>\n",
       "    <tr>\n",
       "      <th>0</th>\n",
       "      <td>0</td>\n",
       "      <td>87</td>\n",
       "      <td>27.0</td>\n",
       "      <td>0.696</td>\n",
       "    </tr>\n",
       "    <tr>\n",
       "      <th>1</th>\n",
       "      <td>457</td>\n",
       "      <td>88</td>\n",
       "      <td>30.0</td>\n",
       "      <td>0.681</td>\n",
       "    </tr>\n",
       "    <tr>\n",
       "      <th>2</th>\n",
       "      <td>0</td>\n",
       "      <td>75</td>\n",
       "      <td>23.0</td>\n",
       "      <td>0.736</td>\n",
       "    </tr>\n",
       "    <tr>\n",
       "      <th>3</th>\n",
       "      <td>560</td>\n",
       "      <td>76</td>\n",
       "      <td>28.0</td>\n",
       "      <td>0.713</td>\n",
       "    </tr>\n",
       "    <tr>\n",
       "      <th>4</th>\n",
       "      <td>1895</td>\n",
       "      <td>80</td>\n",
       "      <td>22.0</td>\n",
       "      <td>0.701</td>\n",
       "    </tr>\n",
       "  </tbody>\n",
       "</table>\n",
       "</div>"
      ],
      "text/plain": [
       "   MR Delay  Age  MMSE   nWBV\n",
       "0         0   87  27.0  0.696\n",
       "1       457   88  30.0  0.681\n",
       "2         0   75  23.0  0.736\n",
       "3       560   76  28.0  0.713\n",
       "4      1895   80  22.0  0.701"
      ]
     },
     "execution_count": 34,
     "metadata": {},
     "output_type": "execute_result"
    }
   ],
   "source": [
    "X_LR.head()"
   ]
  },
  {
   "cell_type": "markdown",
   "metadata": {},
   "source": [
    "### Normalizing the variables"
   ]
  },
  {
   "cell_type": "code",
   "execution_count": 35,
   "metadata": {},
   "outputs": [],
   "source": [
    "def normalize(x):\n",
    "    return (x-min(x))/((max(x)) - min(x))"
   ]
  },
  {
   "cell_type": "code",
   "execution_count": 36,
   "metadata": {},
   "outputs": [],
   "source": [
    "X_LR.loc[:,['MMSE']]=pd.DataFrame(normalize(X_LR['MMSE']))"
   ]
  },
  {
   "cell_type": "markdown",
   "metadata": {},
   "source": [
    "### Defining a function to evaluate the accuracy, precision and, recall for the Linear Regression Model"
   ]
  },
  {
   "cell_type": "code",
   "execution_count": 37,
   "metadata": {},
   "outputs": [],
   "source": [
    "avg_MMSE = X_LR['MMSE'].mean()"
   ]
  },
  {
   "cell_type": "code",
   "execution_count": 38,
   "metadata": {},
   "outputs": [],
   "source": [
    "def eval(fold):\n",
    "    regressor = LinearRegression()\n",
    "    acc_score = []\n",
    "    precise_score = []\n",
    "    recall = []\n",
    "\n",
    "    X_LR_train, X_LR_test = X_LR.iloc[train[fold],:], X_LR.iloc[test[fold],:]\n",
    "    y_LR_train, y_LR_test = y_LR.iloc[train[fold],:], y_LR.iloc[test[fold],:]\n",
    "\n",
    "    X_LR_train, y_LR_train = oversample.fit_resample(X_LR_train, y_LR_train)\n",
    "\n",
    "    X_LR_train.loc[:,'MMSE'] = X_LR_train.loc[:,'MMSE'].fillna(avg_MMSE)\n",
    "\n",
    "    y_LR_train =  y_LR_train.astype(float)\n",
    "    y_LR_train.loc[:,'CDR'] =  y_LR_train.loc[:,'CDR'].fillna(stat.median( y_LR_train['CDR']))\n",
    "    y_LR_train=  y_LR_train.astype(str)\n",
    "\n",
    "\n",
    "\n",
    "    #Complete case for test set\n",
    "    X_LR_test[\"CDR\"] = y_LR_test\n",
    "    X_LR_test = X_LR_test.dropna(axis = 0, how='any')\n",
    "\n",
    "    y_LR_test = X_LR_test[\"CDR\"]\n",
    "    X_LR_test=X_LR_test.loc[:,X_LR_test.columns!='CDR']\n",
    "\n",
    "    regressor.fit(X_LR_train,y_LR_train)\n",
    "\n",
    "    y_LR_pred = regressor.predict(X_LR_test)\n",
    "    new_y_LR_pred = np.around(y_LR_pred * 2.0) / 2.0\n",
    "    new_y_LR_pred = new_y_LR_pred.astype(str)\n",
    "    y_LR_test = y_LR_test.astype(str)\n",
    "\n",
    "    acc = accuracy_score(y_LR_test, new_y_LR_pred)\n",
    "    acc_score.append(acc)\n",
    "\n",
    "    precise = precision_score(y_LR_test, new_y_LR_pred, average='macro',zero_division=1)\n",
    "    precise_score.append(precise)\n",
    "\n",
    "    rec = recall_score(y_LR_test, new_y_LR_pred, average = 'macro', zero_division = 1)\n",
    "    recall.append(rec)\n",
    "        \n",
    "    return acc_score, precise_score, recall"
   ]
  },
  {
   "cell_type": "markdown",
   "metadata": {},
   "source": [
    "### Result for the Linear Regression"
   ]
  },
  {
   "cell_type": "code",
   "execution_count": 39,
   "metadata": {},
   "outputs": [
    {
     "name": "stdout",
     "output_type": "stream",
     "text": [
      "Accuracy Score\n",
      "[0.4473684210526316] [0.7368421052631579] [0.5263157894736842] [0.3783783783783784] [0.5405405405405406] [0.5675675675675675] [0.5405405405405406] [0.6486486486486487] [0.5405405405405406] [0.7142857142857143]\n",
      "Average of Accuracy Score is:  0.5641028246291404\n",
      "***********************************************\n",
      "Precision Score\n",
      "[0.4801587301587302] [0.6127450980392157] [0.3986842105263158] [0.32307692307692304] [0.782051282051282] [0.7269841269841271] [0.5570175438596491] [0.6621212121212121] [0.6535087719298246] [0.6293297345928924]\n",
      "Average of Precision Score is:  0.5825677633340172\n",
      "***********************************************\n",
      "Recall Score\n",
      "[0.4388888888888889] [0.8202020202020202] [0.7377777777777778] [0.3093434343434343] [0.6166666666666667] [0.5757575757575758] [0.557142857142857] [0.6573529411764706] [0.5634920634920635] [0.8105263157894737]\n",
      "Average of Precision Score is:  0.6087150541237228\n"
     ]
    }
   ],
   "source": [
    "LR0 = eval(0)\n",
    "LR1 = eval(1)\n",
    "LR2 = eval(2)\n",
    "LR3 = eval(3)\n",
    "LR4 = eval(4)\n",
    "LR5 = eval(5)\n",
    "LR6 = eval(6)\n",
    "LR7 = eval(7)\n",
    "LR8 = eval(8)\n",
    "LR9 = eval(9)\n",
    "\n",
    "print(\"Accuracy Score\")\n",
    "LR_acc = pd.DataFrame([LR0[0] , LR1[0] , LR2[0], LR3[0] ,LR4[0], LR5[0] , LR6[0], LR7[0], LR8[0], LR9[0]], columns=[\"Accuracy\"])\n",
    "\n",
    "print(LR0[0] , LR1[0] , LR2[0], LR3[0] ,LR4[0], LR5[0] , LR6[0], LR7[0], LR8[0], LR9[0])\n",
    "\n",
    "print(\"Average of Accuracy Score is: \", LR_acc[\"Accuracy\"].mean())\n",
    "\n",
    "print(\"***********************************************\")\n",
    "\n",
    "print(\"Precision Score\")\n",
    "LR_pre = pd.DataFrame([LR0[1] , LR1[1] , LR2[1], LR3[1] ,LR4[1], LR5[1] , LR6[1], LR7[1], LR8[1], LR9[1]], columns=[\"Precision\"])\n",
    "\n",
    "print(LR0[1] , LR1[1] , LR2[1], LR3[1] ,LR4[1], LR5[1] , LR6[1], LR7[1], LR8[1], LR9[1])\n",
    "\n",
    "print(\"Average of Precision Score is: \", LR_pre[\"Precision\"].mean())\n",
    "\n",
    "print(\"***********************************************\")\n",
    "\n",
    "print(\"Recall Score\")\n",
    "LR_rec = pd.DataFrame([LR0[2] , LR1[2] , LR2[2], LR3[2] ,LR4[2], LR5[2] , LR6[2], LR7[2], LR8[2], LR9[2]], columns=[\"Recall\"])\n",
    "\n",
    "print(LR0[2] , LR1[2] , LR2[2], LR3[2] ,LR4[2], LR5[2] , LR6[2], LR7[2], LR8[2], LR9[2])\n",
    "\n",
    "print(\"Average of Precision Score is: \", LR_rec[\"Recall\"].mean())"
   ]
  },
  {
   "cell_type": "code",
   "execution_count": 40,
   "metadata": {},
   "outputs": [
    {
     "data": {
      "text/plain": [
       "Text(0.5, 0, 'Accuracy Score')"
      ]
     },
     "execution_count": 40,
     "metadata": {},
     "output_type": "execute_result"
    },
    {
     "data": {
      "image/png": "[encoded data removed]",
      "text/plain": [
       "<Figure size 432x288 with 1 Axes>"
      ]
     },
     "metadata": {
      "needs_background": "light"
     },
     "output_type": "display_data"
    }
   ],
   "source": [
    "plt.hist(LR_acc)\n",
    "plt.ylabel('Frequency')\n",
    "plt.xlabel('Accuracy Score')"
   ]
  },
  {
   "cell_type": "code",
   "execution_count": 41,
   "metadata": {},
   "outputs": [
    {
     "data": {
      "text/plain": [
       "Text(0.5, 0, 'Precision Score')"
      ]
     },
     "execution_count": 41,
     "metadata": {},
     "output_type": "execute_result"
    },
    {
     "data": {
      "image/png": "[encoded data removed]",
      "text/plain": [
       "<Figure size 432x288 with 1 Axes>"
      ]
     },
     "metadata": {
      "needs_background": "light"
     },
     "output_type": "display_data"
    }
   ],
   "source": [
    "plt.hist(LR_pre)\n",
    "plt.ylabel('Frequency')\n",
    "plt.xlabel('Precision Score')"
   ]
  },
  {
   "cell_type": "code",
   "execution_count": 42,
   "metadata": {},
   "outputs": [
    {
     "data": {
      "text/plain": [
       "Text(0.5, 0, 'Recall Score')"
      ]
     },
     "execution_count": 42,
     "metadata": {},
     "output_type": "execute_result"
    },
    {
     "data": {
      "image/png": "[encoded data removed]",
      "text/plain": [
       "<Figure size 432x288 with 1 Axes>"
      ]
     },
     "metadata": {
      "needs_background": "light"
     },
     "output_type": "display_data"
    }
   ],
   "source": [
    "plt.hist(LR_rec)\n",
    "plt.ylabel('Frequency')\n",
    "plt.xlabel('Recall Score')"
   ]
  },
  {
   "cell_type": "markdown",
   "metadata": {},
   "source": [
    "### Splitting the variables into dependent and independent vairables"
   ]
  },
  {
   "cell_type": "code",
   "execution_count": 43,
   "metadata": {},
   "outputs": [],
   "source": [
    "X_tree = ad.iloc[:,[3,4,9,11,14]]\n",
    "y_tree = ad.iloc[:,[2]]"
   ]
  },
  {
   "cell_type": "code",
   "execution_count": 44,
   "metadata": {},
   "outputs": [
    {
     "data": {
      "text/html": [
       "<div>\n",
       "<style scoped>\n",
       "    .dataframe tbody tr th:only-of-type {\n",
       "        vertical-align: middle;\n",
       "    }\n",
       "\n",
       "    .dataframe tbody tr th {\n",
       "        vertical-align: top;\n",
       "    }\n",
       "\n",
       "    .dataframe thead th {\n",
       "        text-align: right;\n",
       "    }\n",
       "</style>\n",
       "<table border=\"1\" class=\"dataframe\">\n",
       "  <thead>\n",
       "    <tr style=\"text-align: right;\">\n",
       "      <th></th>\n",
       "      <th>Visit</th>\n",
       "      <th>MR Delay</th>\n",
       "      <th>SES</th>\n",
       "      <th>CDR</th>\n",
       "      <th>ASF</th>\n",
       "    </tr>\n",
       "  </thead>\n",
       "  <tbody>\n",
       "    <tr>\n",
       "      <th>0</th>\n",
       "      <td>1</td>\n",
       "      <td>0</td>\n",
       "      <td>2.0</td>\n",
       "      <td>0.0</td>\n",
       "      <td>0.883</td>\n",
       "    </tr>\n",
       "    <tr>\n",
       "      <th>1</th>\n",
       "      <td>2</td>\n",
       "      <td>457</td>\n",
       "      <td>2.0</td>\n",
       "      <td>0.0</td>\n",
       "      <td>0.876</td>\n",
       "    </tr>\n",
       "    <tr>\n",
       "      <th>2</th>\n",
       "      <td>1</td>\n",
       "      <td>0</td>\n",
       "      <td>NaN</td>\n",
       "      <td>0.5</td>\n",
       "      <td>1.046</td>\n",
       "    </tr>\n",
       "    <tr>\n",
       "      <th>3</th>\n",
       "      <td>2</td>\n",
       "      <td>560</td>\n",
       "      <td>NaN</td>\n",
       "      <td>0.5</td>\n",
       "      <td>1.010</td>\n",
       "    </tr>\n",
       "    <tr>\n",
       "      <th>4</th>\n",
       "      <td>3</td>\n",
       "      <td>1895</td>\n",
       "      <td>NaN</td>\n",
       "      <td>0.5</td>\n",
       "      <td>1.034</td>\n",
       "    </tr>\n",
       "  </tbody>\n",
       "</table>\n",
       "</div>"
      ],
      "text/plain": [
       "   Visit  MR Delay  SES  CDR    ASF\n",
       "0      1         0  2.0  0.0  0.883\n",
       "1      2       457  2.0  0.0  0.876\n",
       "2      1         0  NaN  0.5  1.046\n",
       "3      2       560  NaN  0.5  1.010\n",
       "4      3      1895  NaN  0.5  1.034"
      ]
     },
     "execution_count": 44,
     "metadata": {},
     "output_type": "execute_result"
    }
   ],
   "source": [
    "X_tree.head()"
   ]
  },
  {
   "cell_type": "markdown",
   "metadata": {},
   "source": [
    "### Defining the function to evaluate the accuracy, precision, and recall for the decision tree model"
   ]
  },
  {
   "cell_type": "code",
   "execution_count": 45,
   "metadata": {},
   "outputs": [],
   "source": [
    "t_med_SES = stat.median(X_tree['SES'])\n",
    "#t_avg_MMSE = X_tree['MMSE'].mean()"
   ]
  },
  {
   "cell_type": "code",
   "execution_count": 46,
   "metadata": {},
   "outputs": [],
   "source": [
    "def tree_eval(fold):\n",
    "    clf = tree.DecisionTreeClassifier()\n",
    "    acc_score = []\n",
    "    precise_score = []\n",
    "    recall = []\n",
    "\n",
    "    X_tree_train, X_tree_test = X_tree.iloc[train[fold],:], X_tree.iloc[test[fold],:]\n",
    "    y_tree_train, y_tree_test = y_tree.iloc[train[fold],:], y_tree.iloc[test[fold],:]\n",
    "\n",
    "    X_tree_train, y_tree_train = oversample.fit_resample(X_tree_train, y_tree_train)\n",
    "    \n",
    "    X_tree_train.loc[:,'SES'] = X_tree_train.loc[:,'SES'].fillna(t_med_SES)\n",
    "    #X_tree_train.loc[:,'MMSE'] = X_tree_train.loc[:,'MMSE'].fillna(t_avg_MMSE)\n",
    "\n",
    "\n",
    "    #Complete case for test set\n",
    "    X_tree_test[\"Group\"] = y_tree_test\n",
    "    X_tree_test = X_tree_test.dropna(axis = 0, how='any')\n",
    "\n",
    "    y_tree_test = X_tree_test[\"Group\"]\n",
    "    X_tree_test=X_tree_test.loc[:,X_tree_test.columns!='Group']\n",
    "\n",
    "    clf.fit(X_tree_train,y_tree_train)\n",
    "    y_tree_pred = clf.predict(X_tree_test)\n",
    "\n",
    "    acc = accuracy_score(y_tree_test, y_tree_pred)\n",
    "    acc_score.append(acc)\n",
    "\n",
    "    precise = precision_score(y_tree_test, y_tree_pred, average='macro',zero_division=1)\n",
    "    precise_score.append(precise)\n",
    "\n",
    "    rec = recall_score(y_tree_test, y_tree_pred, average = 'macro', zero_division = 1)\n",
    "    recall.append(rec)\n",
    "        \n",
    "    return acc_score, precise_score, recall"
   ]
  },
  {
   "cell_type": "markdown",
   "metadata": {},
   "source": [
    "### Metrics of the decision tree model"
   ]
  },
  {
   "cell_type": "code",
   "execution_count": 47,
   "metadata": {},
   "outputs": [
    {
     "name": "stdout",
     "output_type": "stream",
     "text": [
      "Accuracy Score\n",
      "[0.8125] [0.868421052631579] [0.8421052631578947] [0.8285714285714286] [0.9459459459459459] [0.9142857142857143] [0.8285714285714286] [0.6756756756756757] [0.9428571428571428] [0.75]\n",
      "Average of Accuracy Score is:  0.8408933651696809\n",
      "***********************************************\n",
      "Precision Score\n",
      "[0.7538011695906434] [0.7222222222222222] [0.7341269841269841] [0.6196969696969696] [0.6666666666666666] [0.8605072463768115] [0.6041666666666666] [0.611111111111111] [0.6666666666666666] [0.6416666666666667]\n",
      "Average of Precision Score is:  0.6880632369791408\n",
      "***********************************************\n",
      "Recall Score\n",
      "[0.7232456140350877] [0.7166666666666667] [0.7847222222222222] [0.6086956521739131] [0.9637254901960784] [0.8250000000000001] [0.6041666666666666] [0.6574074074074074] [0.9682539682539683] [0.619281045751634]\n",
      "Average of Precision Score is:  0.7471164733373644\n"
     ]
    }
   ],
   "source": [
    "Tree0 = tree_eval(0)\n",
    "Tree1 = tree_eval(1)\n",
    "Tree2 = tree_eval(2)\n",
    "Tree3 = tree_eval(3)\n",
    "Tree4 = tree_eval(4)\n",
    "Tree5 = tree_eval(5)\n",
    "Tree6 = tree_eval(6)\n",
    "Tree7 = tree_eval(7)\n",
    "Tree8 = tree_eval(8)\n",
    "Tree9 = tree_eval(9)\n",
    "\n",
    "print(\"Accuracy Score\")\n",
    "Tree_acc = pd.DataFrame([Tree0[0] , Tree1[0] , Tree2[0], Tree3[0] ,Tree4[0], Tree5[0] , Tree6[0], Tree7[0], Tree8[0], Tree9[0]], columns=[\"Accuracy\"])\n",
    "\n",
    "print(Tree0[0] , Tree1[0] , Tree2[0], Tree3[0] ,Tree4[0], Tree5[0] , Tree6[0], Tree7[0], Tree8[0], Tree9[0])\n",
    "\n",
    "print(\"Average of Accuracy Score is: \", Tree_acc[\"Accuracy\"].mean())\n",
    "\n",
    "print(\"***********************************************\")\n",
    "\n",
    "print(\"Precision Score\")\n",
    "Tree_pre = pd.DataFrame([Tree0[1] , Tree1[1] , Tree2[1], Tree3[1] ,Tree4[1], Tree5[1] , Tree6[1], Tree7[1], Tree8[1], Tree9[1]], columns=[\"Precision\"])\n",
    "\n",
    "print(Tree0[1] , Tree1[1] , Tree2[1], Tree3[1] ,Tree4[1], Tree5[1] , Tree6[1], Tree7[1], Tree8[1], Tree9[1])\n",
    "\n",
    "print(\"Average of Precision Score is: \", Tree_pre[\"Precision\"].mean())\n",
    "\n",
    "print(\"***********************************************\")\n",
    "\n",
    "print(\"Recall Score\")\n",
    "Tree_rec = pd.DataFrame([Tree0[2] , Tree1[2] , Tree2[2], Tree3[2] ,Tree4[2], Tree5[2] , Tree6[2], Tree7[2], Tree8[2], Tree9[2]], columns=[\"Recall\"])\n",
    "\n",
    "print(Tree0[2] , Tree1[2] , Tree2[2], Tree3[2] ,Tree4[2], Tree5[2] , Tree6[2], Tree7[2], Tree8[2], Tree9[2])\n",
    "\n",
    "print(\"Average of Precision Score is: \", Tree_rec[\"Recall\"].mean())"
   ]
  },
  {
   "cell_type": "code",
   "execution_count": 48,
   "metadata": {},
   "outputs": [
    {
     "data": {
      "text/plain": [
       "Text(0.5, 0, 'Accuracy Score')"
      ]
     },
     "execution_count": 48,
     "metadata": {},
     "output_type": "execute_result"
    },
    {
     "data": {
      "image/png": "[encoded data removed]",
      "text/plain": [
       "<Figure size 432x288 with 1 Axes>"
      ]
     },
     "metadata": {
      "needs_background": "light"
     },
     "output_type": "display_data"
    }
   ],
   "source": [
    "plt.hist(Tree_acc)\n",
    "plt.ylabel('Frequency')\n",
    "plt.xlabel('Accuracy Score')"
   ]
  },
  {
   "cell_type": "code",
   "execution_count": 49,
   "metadata": {},
   "outputs": [
    {
     "data": {
      "text/plain": [
       "Text(0.5, 0, 'Precision Score')"
      ]
     },
     "execution_count": 49,
     "metadata": {},
     "output_type": "execute_result"
    },
    {
     "data": {
      "image/png": "[encoded data removed]",
      "text/plain": [
       "<Figure size 432x288 with 1 Axes>"
      ]
     },
     "metadata": {
      "needs_background": "light"
     },
     "output_type": "display_data"
    }
   ],
   "source": [
    "plt.hist(Tree_pre)\n",
    "plt.ylabel('Frequency')\n",
    "plt.xlabel('Precision Score')"
   ]
  },
  {
   "cell_type": "code",
   "execution_count": 50,
   "metadata": {},
   "outputs": [
    {
     "data": {
      "text/plain": [
       "Text(0.5, 0, 'Recall Score')"
      ]
     },
     "execution_count": 50,
     "metadata": {},
     "output_type": "execute_result"
    },
    {
     "data": {
      "image/png": "[encoded data removed]",
      "text/plain": [
       "<Figure size 432x288 with 1 Axes>"
      ]
     },
     "metadata": {
      "needs_background": "light"
     },
     "output_type": "display_data"
    }
   ],
   "source": [
    "plt.hist(Tree_rec)\n",
    "plt.ylabel('Frequency')\n",
    "plt.xlabel('Recall Score')"
   ]
  },
  {
   "cell_type": "markdown",
   "metadata": {},
   "source": [
    "### Null Hypothesis: The median of the decision tree's accuracy is not greater than the liner regression model's"
   ]
  },
  {
   "cell_type": "code",
   "execution_count": 51,
   "metadata": {},
   "outputs": [
    {
     "data": {
      "text/plain": [
       "RanksumsResult(statistic=3.6284589408885815, pvalue=0.00014255904181580633)"
      ]
     },
     "execution_count": 51,
     "metadata": {},
     "output_type": "execute_result"
    }
   ],
   "source": [
    "ranksums(Tree_acc, LR_acc, alternative = 'greater')"
   ]
  },
  {
   "cell_type": "markdown",
   "metadata": {},
   "source": [
    "### Null Hypothesis: The median of the decision tree's precision is not greater than the liner regression model's"
   ]
  },
  {
   "cell_type": "code",
   "execution_count": 52,
   "metadata": {},
   "outputs": [
    {
     "data": {
      "text/plain": [
       "RanksumsResult(statistic=1.5874507866387544, pvalue=0.05620529232768185)"
      ]
     },
     "execution_count": 52,
     "metadata": {},
     "output_type": "execute_result"
    }
   ],
   "source": [
    "ranksums(Tree_pre, LR_pre, alternative = 'greater')"
   ]
  },
  {
   "cell_type": "markdown",
   "metadata": {},
   "source": [
    "### Null Hypothesis: The median of the decision tree's recall is not greater than the liner regression model's"
   ]
  },
  {
   "cell_type": "code",
   "execution_count": 53,
   "metadata": {},
   "outputs": [
    {
     "data": {
      "text/plain": [
       "RanksumsResult(statistic=1.889822365046136, pvalue=0.02939086067767943)"
      ]
     },
     "execution_count": 53,
     "metadata": {},
     "output_type": "execute_result"
    }
   ],
   "source": [
    "ranksums(Tree_rec, LR_rec, alternative = 'greater')"
   ]
  }
 ],
 "metadata": {
  "kernelspec": {
   "display_name": "Python 3.7.0 32-bit",
   "language": "python",
   "name": "python3"
  },
  "language_info": {
   "codemirror_mode": {
    "name": "ipython",
    "version": 3
   },
   "file_extension": ".py",
   "mimetype": "text/x-python",
   "name": "python",
   "nbconvert_exporter": "python",
   "pygments_lexer": "ipython3",
   "version": "3.7.0"
  },
  "orig_nbformat": 4,
  "vscode": {
   "interpreter": {
    "hash": "a1149b4cf27a6be64942d6349e5d3a5a390f7bc340efac3803b90f8137d94e5d"
   }
  }
 },
 "nbformat": 4,
 "nbformat_minor": 2
}
